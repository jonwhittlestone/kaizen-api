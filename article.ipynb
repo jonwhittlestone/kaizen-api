{
 "cells": [
  {
   "cell_type": "markdown",
   "metadata": {},
   "source": [
    "# A personal dashboard with Asynchronous Python. Code and Deploy with Serverless on AWS Lambda\n",
    "\n",
    "This is a multi-part tutorial demonstrating the design, creation, presentation and deployment of a personal dashboard.\n",
    "\n",
    "The goal is to demonstrate the design, development and deployment of a product aimed at the personal user to enable them to get an overview of how their life is going! \n",
    "\n",
    "This is done by providing Key performance indicators such as Inbox count, Financial information, monthly fitness progress.\n",
    "\n",
    "The tutorial is broken down as follows\n",
    "\n",
    "## Design\n",
    "[ ] Motivations\n",
    "\n",
    "[ ] Wireframe/Sketch\n",
    "\n",
    "[ ] Research / Viability\n",
    "\n",
    "## Make it work - MVP Code\n",
    "\n",
    "In the spirit of the great Kent Beck quote, we're first going to make it work ...\n",
    "\n",
    "[x] Gmail Inbox Count with IMAP\n",
    "\n",
    "[x] American Express Balance with pyamex (Requests)\n",
    "\n",
    "[ ] Strava Monthly Exercise with 0Auth2 API\n",
    "\n",
    "[ ] Starling / Monzo Balanace with OAuth2 API\n",
    "\n",
    "[ ] Starling / Monzo savings tracker\n",
    "\n",
    "\n",
    "## Make it work\n",
    "\n",
    "\n",
    "## Make it fast\n"
   ]
  }
 ],
 "metadata": {
  "kernelspec": {
   "display_name": "Python 3",
   "language": "python",
   "name": "python3"
  },
  "language_info": {
   "codemirror_mode": {
    "name": "ipython",
    "version": 3
   },
   "file_extension": ".py",
   "mimetype": "text/x-python",
   "name": "python",
   "nbconvert_exporter": "python",
   "pygments_lexer": "ipython3",
   "version": "3.6.8"
  }
 },
 "nbformat": 4,
 "nbformat_minor": 2
}
