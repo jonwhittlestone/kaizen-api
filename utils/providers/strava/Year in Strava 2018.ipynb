{
 "cells": [
  {
   "cell_type": "markdown",
   "metadata": {},
   "source": [
    "# Table of content\n",
    "1. Import required libraries\n",
    "2. Setup *plotly* library for using it offline\n",
    "3. Load Strava Data using the *stravaio* library\n",
    "4. Prepare Strava Data for plotting\n",
    "5. Make the Infographics with Plotly"
   ]
  },
  {
   "cell_type": "markdown",
   "metadata": {},
   "source": [
    "## 1. Import required libraries"
   ]
  },
  {
   "cell_type": "code",
   "execution_count": 1,
   "metadata": {},
   "outputs": [
    {
     "name": "stdout",
     "output_type": "stream",
     "text": [
      "Requirement already satisfied: stravaio in /home/jon/code/playground/pkpi/venv/lib/python3.6/site-packages (0.0.7)\n",
      "Requirement already satisfied: maya in /home/jon/code/playground/pkpi/venv/lib/python3.6/site-packages (from stravaio) (0.6.1)\n",
      "Requirement already satisfied: pandas in /home/jon/code/playground/pkpi/venv/lib/python3.6/site-packages (from stravaio) (0.24.2)\n",
      "Requirement already satisfied: requests in /home/jon/code/playground/pkpi/venv/lib/python3.6/site-packages (from stravaio) (2.22.0)\n",
      "Requirement already satisfied: urllib3 in /home/jon/code/playground/pkpi/venv/lib/python3.6/site-packages (from stravaio) (1.25.3)\n",
      "Requirement already satisfied: certifi in /home/jon/code/playground/pkpi/venv/lib/python3.6/site-packages (from stravaio) (2019.3.9)\n",
      "Requirement already satisfied: loguru in /home/jon/code/playground/pkpi/venv/lib/python3.6/site-packages (from stravaio) (0.2.5)\n",
      "Requirement already satisfied: pyarrow in /home/jon/code/playground/pkpi/venv/lib/python3.6/site-packages (from stravaio) (0.13.0)\n",
      "Requirement already satisfied: dateparser>=0.7.0 in /home/jon/code/playground/pkpi/venv/lib/python3.6/site-packages (from maya->stravaio) (0.7.1)\n",
      "Requirement already satisfied: humanize in /home/jon/code/playground/pkpi/venv/lib/python3.6/site-packages (from maya->stravaio) (0.5.1)\n",
      "Requirement already satisfied: pendulum>=2.0.2 in /home/jon/code/playground/pkpi/venv/lib/python3.6/site-packages (from maya->stravaio) (2.0.4)\n",
      "Requirement already satisfied: tzlocal in /home/jon/code/playground/pkpi/venv/lib/python3.6/site-packages (from maya->stravaio) (1.5.1)\n",
      "Requirement already satisfied: snaptime in /home/jon/code/playground/pkpi/venv/lib/python3.6/site-packages (from maya->stravaio) (0.2.4)\n",
      "Requirement already satisfied: pytz in /home/jon/code/playground/pkpi/venv/lib/python3.6/site-packages (from maya->stravaio) (2019.1)\n",
      "Requirement already satisfied: python-dateutil>=2.5.0 in /home/jon/code/playground/pkpi/venv/lib/python3.6/site-packages (from pandas->stravaio) (2.8.0)\n",
      "Requirement already satisfied: numpy>=1.12.0 in /home/jon/code/playground/pkpi/venv/lib/python3.6/site-packages (from pandas->stravaio) (1.16.4)\n",
      "Requirement already satisfied: idna<2.9,>=2.5 in /home/jon/code/playground/pkpi/venv/lib/python3.6/site-packages (from requests->stravaio) (2.8)\n",
      "Requirement already satisfied: chardet<3.1.0,>=3.0.2 in /home/jon/code/playground/pkpi/venv/lib/python3.6/site-packages (from requests->stravaio) (3.0.4)\n",
      "Requirement already satisfied: ansimarkup>=1.4.0 in /home/jon/code/playground/pkpi/venv/lib/python3.6/site-packages (from loguru->stravaio) (1.4.0)\n",
      "Requirement already satisfied: colorama>=0.3.4 in /home/jon/code/playground/pkpi/venv/lib/python3.6/site-packages (from loguru->stravaio) (0.4.1)\n",
      "Requirement already satisfied: better-exceptions-fork>=0.2.1.post6 in /home/jon/code/playground/pkpi/venv/lib/python3.6/site-packages (from loguru->stravaio) (0.2.1.post6)\n",
      "Requirement already satisfied: six>=1.0.0 in /home/jon/code/playground/pkpi/venv/lib/python3.6/site-packages (from pyarrow->stravaio) (1.12.0)\n",
      "Requirement already satisfied: regex in /home/jon/code/playground/pkpi/venv/lib/python3.6/site-packages (from dateparser>=0.7.0->maya->stravaio) (2019.6.8)\n",
      "Requirement already satisfied: pytzdata>=2018.3 in /home/jon/code/playground/pkpi/venv/lib/python3.6/site-packages (from pendulum>=2.0.2->maya->stravaio) (2019.1)\n",
      "Requirement already satisfied: pygments>=2.2.0 in /home/jon/code/playground/pkpi/venv/lib/python3.6/site-packages (from better-exceptions-fork>=0.2.1.post6->loguru->stravaio) (2.4.2)\n"
     ]
    }
   ],
   "source": [
    "!pip install stravaio"
   ]
  },
  {
   "cell_type": "code",
   "execution_count": 7,
   "metadata": {},
   "outputs": [
    {
     "ename": "ModuleNotFoundError",
     "evalue": "No module named 'stravaio'",
     "output_type": "error",
     "traceback": [
      "\u001b[0;31m---------------------------------------------------------------------------\u001b[0m",
      "\u001b[0;31mModuleNotFoundError\u001b[0m                       Traceback (most recent call last)",
      "\u001b[0;32m<ipython-input-7-ffd9a8c6fb77>\u001b[0m in \u001b[0;36m<module>\u001b[0;34m\u001b[0m\n\u001b[0;32m----> 1\u001b[0;31m \u001b[0;32mfrom\u001b[0m \u001b[0mstravaio\u001b[0m \u001b[0;32mimport\u001b[0m \u001b[0mStravaIO\u001b[0m\u001b[0;34m\u001b[0m\u001b[0;34m\u001b[0m\u001b[0m\n\u001b[0m",
      "\u001b[0;31mModuleNotFoundError\u001b[0m: No module named 'stravaio'"
     ]
    }
   ],
   "source": []
  },
  {
   "cell_type": "code",
   "execution_count": 10,
   "metadata": {},
   "outputs": [
    {
     "ename": "ModuleNotFoundError",
     "evalue": "No module named 'stravaio'",
     "output_type": "error",
     "traceback": [
      "\u001b[0;31m-------------------------------------------\u001b[0m",
      "\u001b[0;31mModuleNotFoundError\u001b[0mTraceback (most recent call last)",
      "\u001b[0;32m<ipython-input-10-0a5990fc8f70>\u001b[0m in \u001b[0;36m<module>\u001b[0;34m\u001b[0m\n\u001b[1;32m      3\u001b[0m \u001b[0;31m# %autoreload 2\u001b[0m\u001b[0;34m\u001b[0m\u001b[0;34m\u001b[0m\u001b[0;34m\u001b[0m\u001b[0m\n\u001b[1;32m      4\u001b[0m \u001b[0;32mimport\u001b[0m \u001b[0mos\u001b[0m \u001b[0;31m# will be used for reading environment variables\u001b[0m\u001b[0;34m\u001b[0m\u001b[0;34m\u001b[0m\u001b[0m\n\u001b[0;32m----> 5\u001b[0;31m \u001b[0;32mfrom\u001b[0m \u001b[0mstravaio\u001b[0m \u001b[0;32mimport\u001b[0m \u001b[0mStravaIO\u001b[0m \u001b[0;31m# will be used for accessing Strava data\u001b[0m\u001b[0;34m\u001b[0m\u001b[0;34m\u001b[0m\u001b[0m\n\u001b[0m\u001b[1;32m      6\u001b[0m \u001b[0;31m# import maya # will be used for processing datetime information\u001b[0m\u001b[0;34m\u001b[0m\u001b[0;34m\u001b[0m\u001b[0;34m\u001b[0m\u001b[0m\n\u001b[1;32m      7\u001b[0m \u001b[0;31m# from pprint import pprint # just a handy printing function\u001b[0m\u001b[0;34m\u001b[0m\u001b[0;34m\u001b[0m\u001b[0;34m\u001b[0m\u001b[0m\n",
      "\u001b[0;31mModuleNotFoundError\u001b[0m: No module named 'stravaio'"
     ]
    }
   ],
   "source": [
    "# Autoreload the libraries, useful for when new libraries are added on the fly\n",
    "# %load_ext autoreload\n",
    "# %autoreload 2\n",
    "# import os # will be used for reading environment variables\n",
    "# from stravaio import StravaIO # will be used for accessing Strava data\n",
    "\n",
    "# import maya # will be used for processing datetime information\n",
    "# from pprint import pprint # just a handy printing function\n",
    "# import pandas as pd # if you know this, you are qualified at least for the data analitics job \n",
    "# import numpy as np # the mother of all data processing in Python"
   ]
  },
  {
   "cell_type": "markdown",
   "metadata": {},
   "source": [
    "## 2. Setup plotly offline\n",
    "\n",
    "The main purpose of the plotly library is to generate plots for the web using python. The library, however, allows using it in the offline mode, inside the jupyter notebook."
   ]
  },
  {
   "cell_type": "code",
   "execution_count": null,
   "metadata": {},
   "outputs": [],
   "source": [
    "from plotly.offline import iplot # the offline plot renderring function (as opposed to plot)\n",
    "import plotly.graph_objs as go # object that generates various types of traces e.g. Scatter, Bar etc.\n",
    "from plotly import tools # utility tools, we will use a make_subplot to generate a grid layout of plots\n",
    "# Make plots to render in the notebook\n",
    "from plotly.offline import init_notebook_mode\n",
    "init_notebook_mode(connected=True)"
   ]
  },
  {
   "cell_type": "markdown",
   "metadata": {},
   "source": [
    "## 3. Load Strava Data"
   ]
  },
  {
   "cell_type": "markdown",
   "metadata": {},
   "source": [
    "To access your strava data programmatically you will need an **access token**. Strava recently changed their policy and accessing a token with activity level permission become a bit cumbersome. For such cases I've created a project that allows to lounch a local server to get the personal token. Go to the [strava-oauth](https://github.com/sladkovm/strava-oauth) for more info."
   ]
  },
  {
   "cell_type": "code",
   "execution_count": null,
   "metadata": {},
   "outputs": [],
   "source": [
    "access_token = os.getenv('STRAVA_ACCESS_TOKEN', None)\n",
    "assert access_token is not None"
   ]
  },
  {
   "cell_type": "markdown",
   "metadata": {},
   "source": [
    "To access the strava data I've written a *stravaio* library. It's purpose is to be as declarative as possible and the user should never have a feeling that he is working with a web service. In the center of the *stravaio* workflow is the *StravaIO* object that exposes all required functions to access *athlete*, *activities* and *streams* data."
   ]
  },
  {
   "cell_type": "code",
   "execution_count": null,
   "metadata": {},
   "outputs": [],
   "source": [
    "client = StravaIO(access_token)"
   ]
  },
  {
   "cell_type": "markdown",
   "metadata": {},
   "source": [
    "StravaIO object directly exposes [Strava Swagger API interfaces](https://developers.strava.com/docs/reference/)"
   ]
  },
  {
   "cell_type": "code",
   "execution_count": null,
   "metadata": {},
   "outputs": [],
   "source": [
    "client.__dict__"
   ]
  },
  {
   "cell_type": "markdown",
   "metadata": {},
   "source": [
    "The StravaIO exposes a number of methods that allow direct access to Strava data (essentially these are the wrappers around the api interfaces that simplify life)"
   ]
  },
  {
   "cell_type": "code",
   "execution_count": null,
   "metadata": {},
   "outputs": [],
   "source": [
    "for m in dir(client):\n",
    "    if not m.startswith('_'):\n",
    "        pprint(m)"
   ]
  },
  {
   "cell_type": "markdown",
   "metadata": {},
   "source": [
    "### Get athlete information\n",
    "Only information about the logged in athlete could be accessed. The access_token unambiguosly encodes the information about the athlete."
   ]
  },
  {
   "cell_type": "code",
   "execution_count": null,
   "metadata": {},
   "outputs": [],
   "source": [
    "athlete = client.get_logged_in_athlete()"
   ]
  },
  {
   "cell_type": "code",
   "execution_count": null,
   "metadata": {},
   "outputs": [],
   "source": [
    "pprint(f\"\"\"\n",
    "Name: {athlete.api_response.firstname}, \n",
    "Last Name: {athlete.api_response.lastname}, \n",
    "FTP: {athlete.api_response.ftp}, \n",
    "\"\"\")"
   ]
  },
  {
   "cell_type": "markdown",
   "metadata": {},
   "source": [
    "### Get the athletes activities\n",
    "\n",
    "The *after* parameter takes the date in human readable format - you can even tell it \"Last year\". The function returns a list of SummaryActivity."
   ]
  },
  {
   "cell_type": "code",
   "execution_count": null,
   "metadata": {},
   "outputs": [],
   "source": [
    "activities = client.get_logged_in_athlete_activities(after='20180101')"
   ]
  },
  {
   "cell_type": "code",
   "execution_count": null,
   "metadata": {},
   "outputs": [],
   "source": [
    "type(activities[0])"
   ]
  },
  {
   "cell_type": "markdown",
   "metadata": {},
   "source": [
    "### Get the streams corresponding to each activity\n",
    "\n",
    "1. For each activity we will request a stream from Strava API if the activity contains the power data.\n",
    "2. If the stream is already stored locally, the local copy (pandas.DataFrame) will be returned. Otherwise the Stream object will be requested from the API. The requested from the API stream will be stored locally for future reuse.\n",
    "3. We will also start populating a list that will be used for making infographics:\n",
    "\n",
    "```\n",
    "[{\n",
    "'activity': SummaryActivity,\n",
    "'streams': pd.DataFrame(streams)\n",
    "},\n",
    "...\n",
    "]\n",
    "```"
   ]
  },
  {
   "cell_type": "code",
   "execution_count": null,
   "metadata": {
    "scrolled": false
   },
   "outputs": [],
   "source": [
    "to_plot = []\n",
    "for a in activities:\n",
    "    if (a.device_watts): # check if the activity has the power data\n",
    "        pprint(f'{maya.parse(a.start_date).iso8601()}:, {a.name}, {a.start_latlng}, {a.trainer}, {a.type}')\n",
    "        s = client.get_activity_streams(a.id, athlete.api_response.id)\n",
    "        if isinstance(s, pd.DataFrame): # check whether the stream was loaded from the local copy\n",
    "            _s = s\n",
    "        else: # Streams were loaded from the API, will be stored locally first\n",
    "            s.store_locally()\n",
    "            _s = s.to_dict()\n",
    "        to_plot.append({\n",
    "            'activity': a,\n",
    "            'streams': s\n",
    "        })"
   ]
  },
  {
   "cell_type": "code",
   "execution_count": null,
   "metadata": {},
   "outputs": [],
   "source": [
    "pprint(f\"Total number of processed activities: {len(to_plot)}\")"
   ]
  },
  {
   "cell_type": "markdown",
   "metadata": {},
   "source": [
    "## 4. Prepare the data for plotting\n",
    "\n",
    "For plotting we will need the following data:\n",
    "1. Best 5s, 1min, 5 min and 20 min power from each ride\n",
    "2. If the best power constitute a PR, the number will colored in Strava Orange\n",
    "3. Smooth power data with 10s rolling mean - to make it prettier on the plot\n",
    "4. Color coding of the each power point whether it is above (orange) or below (white) the FTP value"
   ]
  },
  {
   "cell_type": "code",
   "execution_count": null,
   "metadata": {},
   "outputs": [],
   "source": [
    "def power_max(watts):\n",
    "    \"\"\"Returns a list of Power Bests for the ride\"\"\"\n",
    "    pm = [\n",
    "        watts.rolling(5).mean().max(),\n",
    "        watts.rolling(60).mean().max(),\n",
    "        watts.rolling(5*60).mean().max(),\n",
    "        watts.rolling(20*60).mean().max()\n",
    "    ]\n",
    "    rv = [int(p) if p is not np.NAN else 0 for p in pm]\n",
    "    return rv\n",
    "\n",
    "\n",
    "def power_color(new, old):\n",
    "    \"\"\"Return orange if the new values is a PR\"\"\"\n",
    "    if new > old:\n",
    "        return \"#fc4c02\"\n",
    "    else:\n",
    "        return \"#FFF\""
   ]
  },
  {
   "cell_type": "code",
   "execution_count": null,
   "metadata": {},
   "outputs": [],
   "source": [
    "power_old = [0,0,0,0]\n",
    "for d in to_plot:\n",
    "    \n",
    "    _power_max = power_max(d['streams']['watts'])\n",
    "    d.update({'power_max': _power_max})\n",
    "    \n",
    "    _power_color = [power_color(pn, po) for pn, po in zip(_power_max, power_old)]\n",
    "    d.update({'power_color': _power_color})\n",
    "    \n",
    "    power_old = [pn if pn>po else po for pn, po in zip(_power_max, power_old)]\n",
    "    \n",
    "    _streams = d['streams']\n",
    "    _streams['watts_smooth'] = _streams['watts'].rolling(10, min_periods=1).mean()\n",
    "    \n",
    "    _streams['color'] = pd.Series(np.arange(len(_streams['watts'])))\n",
    "    _streams['color'].loc[_streams['watts']>=athlete.api_response.ftp] = \"#fc4c02\"\n",
    "    _streams['color'].loc[_streams['watts']<athlete.api_response.ftp] = \"#FFF\"\n",
    "    d.update({'streams': _streams})\n",
    "    \n",
    "    d.update({'date': maya.parse(d['activity'].start_date).slang_date()})"
   ]
  },
  {
   "cell_type": "code",
   "execution_count": null,
   "metadata": {},
   "outputs": [],
   "source": [
    "to_plot[0]['power_max']"
   ]
  },
  {
   "cell_type": "markdown",
   "metadata": {},
   "source": [
    "## 5. Plot"
   ]
  },
  {
   "cell_type": "code",
   "execution_count": null,
   "metadata": {},
   "outputs": [],
   "source": [
    "n_plots = len(to_plot)\n",
    "MODE = 'markers'\n",
    "# n_plots = 5\n",
    "specs = [[{}, {}, {}] for i in range(n_plots)]\n",
    "fig = tools.make_subplots(rows=n_plots, cols=3,\n",
    "                          specs=specs,\n",
    "                          shared_xaxes=True,\n",
    "                          shared_yaxes=True,\n",
    "                          vertical_spacing=0.0001)\n",
    "\n",
    "\n",
    "yaxis_settings = dict(showline=False, zeroline=False, showgrid=False,\n",
    "                                                  showticklabels=False, zerolinewidth=0)\n",
    "xaxis_settings1 = dict(showline=False, zeroline=False, showgrid=False,\n",
    "                                                  showticklabels=False,\n",
    "                      domain=[0, 0.1])\n",
    "\n",
    "xaxis_settings2 = dict(showline=False, zeroline=False, showgrid=False,\n",
    "                                                  showticklabels=True,\n",
    "                    tickvals=[3600, 2*3600, 3*3600],\n",
    "                    ticktext=['1h' ,'2h', '3h'],\n",
    "                      domain=[0.1, 0.8])\n",
    "\n",
    "xaxis_settings3 = dict(showline=False, zeroline=False, showgrid=False,\n",
    "                                                  showticklabels=True,\n",
    "                      domain=[0.8, 1.0])\n",
    "\n",
    "\n",
    "_=1\n",
    "for d in to_plot:\n",
    "    if _ < (n_plots+1):\n",
    "        # Date and name\n",
    "        trace = go.Bar({\n",
    "            \"x\":[0],\n",
    "            \"y\":[1],\n",
    "            \"text\": [d['date']],\n",
    "            \"textposition\": \"outside\",\n",
    "            \"textfont\": {\"color\": \"#FFF\"},\n",
    "            \"marker\": {\"color\": \"#111\",\n",
    "                       \"line\": {\n",
    "                           \"width\": 1,\n",
    "                           \"color\": \"#fc4c02\"\n",
    "                       }\n",
    "                      }\n",
    "        })\n",
    "        fig.append_trace(trace, _, 1)\n",
    "        \n",
    "        # Scatter\n",
    "        trace = go.Scattergl({\n",
    "            \"x\": d['streams']['time'],\n",
    "            \"y\": d['streams']['watts_smooth'],\n",
    "            \"mode\": MODE,\n",
    "            \"marker\": {\"color\": d['streams']['color'],\n",
    "                       \"size\": 1},\n",
    "            \"textfont\": {\"color\": \"#FFF\"},\n",
    "        })\n",
    "        fig.append_trace(trace, _, 2)\n",
    "        \n",
    "        # Bar\n",
    "        trace = go.Bar({\n",
    "            \"x\": [\"5 sec\", \"1 min\", \"5 min\", \"20 min\"],\n",
    "            \"y\": [1,1,1,1],\n",
    "            \"text\": d['power_max'],\n",
    "            \"textposition\": \"outside\",\n",
    "            \"textfont\": {\"color\": d['power_color']},\n",
    "            \"marker\": {\"color\": '#111',\n",
    "                       \"line\": {\n",
    "                           \"width\": 1,\n",
    "                           \"color\": \"#fc4c02\"\n",
    "                       }\n",
    "                      }\n",
    "        })\n",
    "        fig.append_trace(trace, _, 3)\n",
    "        _+=1\n",
    "        if _ > 1:\n",
    "            fig['layout'].update({f'yaxis{2*_ - 1}': yaxis_settings})\n",
    "            fig['layout'].update({f'yaxis{2*_-2}': yaxis_settings})\n",
    "        else:\n",
    "            fig['layout'].update({'yaxis': yaxis_settings})\n",
    "            fig['layout'].update({'yaxis2': yaxis_settings})\n",
    "    else:\n",
    "        break\n",
    "        \n",
    "fig['layout'].update(title=f\"\"\"\n",
    "{athlete.api_response.firstname} {athlete.api_response.lastname} Year in Strava 2018: stravaio, strava-oauth\n",
    "\"\"\",\n",
    "                     font=dict(family=\"Courier New\", color=\"#FFF\"),\n",
    "                     height=1600, width=1000,\n",
    "                     showlegend=False, paper_bgcolor='#111', plot_bgcolor='#111',\n",
    "                     yaxis=yaxis_settings,\n",
    "                     xaxis=xaxis_settings1,\n",
    "                     xaxis2=xaxis_settings2,\n",
    "                     xaxis3=xaxis_settings3)\n",
    "\n",
    "# fig['layout'].update({'yaxis2':yaxis_settings})"
   ]
  },
  {
   "cell_type": "code",
   "execution_count": null,
   "metadata": {
    "scrolled": false
   },
   "outputs": [],
   "source": [
    "iplot(fig)"
   ]
  }
 ],
 "metadata": {
  "kernelspec": {
   "display_name": "venv",
   "language": "python",
   "name": "venv"
  },
  "language_info": {
   "codemirror_mode": {
    "name": "ipython",
    "version": 3
   },
   "file_extension": ".py",
   "mimetype": "text/x-python",
   "name": "python",
   "nbconvert_exporter": "python",
   "pygments_lexer": "ipython3",
   "version": "3.6.7"
  }
 },
 "nbformat": 4,
 "nbformat_minor": 2
}
